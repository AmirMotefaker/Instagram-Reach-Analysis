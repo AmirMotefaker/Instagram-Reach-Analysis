{
 "cells": [
  {
   "cell_type": "markdown",
   "id": "65e57f53",
   "metadata": {
    "papermill": {
     "duration": 0.004704,
     "end_time": "2023-04-16T16:44:45.147747",
     "exception": false,
     "start_time": "2023-04-16T16:44:45.143043",
     "status": "completed"
    },
    "tags": []
   },
   "source": [
    "# Introduction\n",
    "\n",
    "- Instagram is one of the most popular social media applications today. People using Instagram professionally are using it for promoting their business, building a portfolio, blogging, and creating various kinds of content. As Instagram is a popular application used by millions of people with different niches, Instagram keeps changing to make itself better for content creators and users. But as this keeps changing, it affects the reach of our posts which affects us in the long run. So if content creator wants to do well on Instagram in the long run, they have to look at the data of their Instagram reach. That is where the use of Data Science in social media comes in. \n",
    "\n",
    "- I have been researching Instagram reach for a long time. Every time I post on my Instagram account, I collect data about how successful the post is after a week. This helps to understand how the Instagram algorithm works. If you want to analyze the reach of your Instagram account, you have to collect your data manually because there are some APIs, but they don't work well. Therefore, it is better to collect your Instagram data manually.\n",
    "\n",
    "- If you want to learn how to analyze Instagram reach using Python, you can use the data I collected from my Instagram account. You can download the dataset I used to analyze Instagram reach [here](https://statso.io/wp-content/uploads/2022/10/archive.zip)."
   ]
  },
  {
   "cell_type": "markdown",
   "id": "0e5d3c61",
   "metadata": {
    "papermill": {
     "duration": 0.004127,
     "end_time": "2023-04-16T16:44:45.155805",
     "exception": false,
     "start_time": "2023-04-16T16:44:45.151678",
     "status": "completed"
    },
    "tags": []
   },
   "source": [
    "# Import Libraries"
   ]
  },
  {
   "cell_type": "code",
   "execution_count": 1,
   "id": "f7a2c63f",
   "metadata": {
    "execution": {
     "iopub.execute_input": "2023-04-16T16:44:45.166746Z",
     "iopub.status.busy": "2023-04-16T16:44:45.165861Z",
     "iopub.status.idle": "2023-04-16T16:44:48.306209Z",
     "shell.execute_reply": "2023-04-16T16:44:48.305006Z"
    },
    "papermill": {
     "duration": 3.148451,
     "end_time": "2023-04-16T16:44:48.309233",
     "exception": false,
     "start_time": "2023-04-16T16:44:45.160782",
     "status": "completed"
    },
    "tags": []
   },
   "outputs": [],
   "source": [
    "import pandas as pd\n",
    "import numpy as np\n",
    "import matplotlib.pyplot as plt\n",
    "import seaborn as sns\n",
    "import plotly.express as px\n",
    "from wordcloud import WordCloud, STOPWORDS, ImageColorGenerator\n",
    "from sklearn.model_selection import train_test_split\n",
    "from sklearn.linear_model import PassiveAggressiveRegressor"
   ]
  },
  {
   "cell_type": "markdown",
   "id": "26df59a8",
   "metadata": {
    "papermill": {
     "duration": 0.003481,
     "end_time": "2023-04-16T16:44:48.317229",
     "exception": false,
     "start_time": "2023-04-16T16:44:48.313748",
     "status": "completed"
    },
    "tags": []
   },
   "source": [
    "# Read Data"
   ]
  },
  {
   "cell_type": "code",
   "execution_count": 2,
   "id": "758a879c",
   "metadata": {
    "execution": {
     "iopub.execute_input": "2023-04-16T16:44:48.325972Z",
     "iopub.status.busy": "2023-04-16T16:44:48.325531Z",
     "iopub.status.idle": "2023-04-16T16:44:48.342814Z",
     "shell.execute_reply": "2023-04-16T16:44:48.341781Z"
    },
    "papermill": {
     "duration": 0.024673,
     "end_time": "2023-04-16T16:44:48.345473",
     "exception": false,
     "start_time": "2023-04-16T16:44:48.320800",
     "status": "completed"
    },
    "tags": []
   },
   "outputs": [],
   "source": [
    "data = pd.read_csv(\"/kaggle/input/instagram-data/Instagram data.csv\", encoding = 'latin1')"
   ]
  },
  {
   "cell_type": "code",
   "execution_count": 3,
   "id": "a924bf46",
   "metadata": {
    "execution": {
     "iopub.execute_input": "2023-04-16T16:44:48.354486Z",
     "iopub.status.busy": "2023-04-16T16:44:48.353515Z",
     "iopub.status.idle": "2023-04-16T16:44:48.372885Z",
     "shell.execute_reply": "2023-04-16T16:44:48.371727Z"
    },
    "papermill": {
     "duration": 0.026565,
     "end_time": "2023-04-16T16:44:48.375484",
     "exception": false,
     "start_time": "2023-04-16T16:44:48.348919",
     "status": "completed"
    },
    "tags": []
   },
   "outputs": [
    {
     "name": "stdout",
     "output_type": "stream",
     "text": [
      "   Impressions  From Home  From Hashtags  From Explore  From Other  Saves  \\\n",
      "0         3920       2586           1028           619          56     98   \n",
      "1         5394       2727           1838          1174          78    194   \n",
      "2         4021       2085           1188             0         533     41   \n",
      "3         4528       2700            621           932          73    172   \n",
      "4         2518       1704            255           279          37     96   \n",
      "\n",
      "   Comments  Shares  Likes  Profile Visits  Follows  \\\n",
      "0         9       5    162              35        2   \n",
      "1         7      14    224              48       10   \n",
      "2        11       1    131              62       12   \n",
      "3        10       7    213              23        8   \n",
      "4         5       4    123               8        0   \n",
      "\n",
      "                                             Caption  \\\n",
      "0  Here are some of the most important data visua...   \n",
      "1  Here are some of the best data science project...   \n",
      "2  Learn how to train a machine learning model an...   \n",
      "3  Heres how you can write a Python program to d...   \n",
      "4  Plotting annotations while visualizing your da...   \n",
      "\n",
      "                                            Hashtags  \n",
      "0  #finance #money #business #investing #investme...  \n",
      "1  #healthcare #health #covid #data #datascience ...  \n",
      "2  #data #datascience #dataanalysis #dataanalytic...  \n",
      "3  #python #pythonprogramming #pythonprojects #py...  \n",
      "4  #datavisualization #datascience #data #dataana...  \n"
     ]
    }
   ],
   "source": [
    "print(data.head())"
   ]
  },
  {
   "cell_type": "markdown",
   "id": "85fb6469",
   "metadata": {
    "papermill": {
     "duration": 0.003348,
     "end_time": "2023-04-16T16:44:48.382460",
     "exception": false,
     "start_time": "2023-04-16T16:44:48.379112",
     "status": "completed"
    },
    "tags": []
   },
   "source": [
    "# Whether the dataset contains null values or not"
   ]
  },
  {
   "cell_type": "code",
   "execution_count": 4,
   "id": "8da90bd3",
   "metadata": {
    "execution": {
     "iopub.execute_input": "2023-04-16T16:44:48.391146Z",
     "iopub.status.busy": "2023-04-16T16:44:48.390718Z",
     "iopub.status.idle": "2023-04-16T16:44:48.402126Z",
     "shell.execute_reply": "2023-04-16T16:44:48.400922Z"
    },
    "papermill": {
     "duration": 0.018583,
     "end_time": "2023-04-16T16:44:48.404562",
     "exception": false,
     "start_time": "2023-04-16T16:44:48.385979",
     "status": "completed"
    },
    "tags": []
   },
   "outputs": [
    {
     "data": {
      "text/plain": [
       "Impressions       0\n",
       "From Home         0\n",
       "From Hashtags     0\n",
       "From Explore      0\n",
       "From Other        0\n",
       "Saves             0\n",
       "Comments          0\n",
       "Shares            0\n",
       "Likes             0\n",
       "Profile Visits    0\n",
       "Follows           0\n",
       "Caption           0\n",
       "Hashtags          0\n",
       "dtype: int64"
      ]
     },
     "execution_count": 4,
     "metadata": {},
     "output_type": "execute_result"
    }
   ],
   "source": [
    "data.isnull().sum()"
   ]
  },
  {
   "cell_type": "code",
   "execution_count": 5,
   "id": "1a1f832c",
   "metadata": {
    "execution": {
     "iopub.execute_input": "2023-04-16T16:44:48.414099Z",
     "iopub.status.busy": "2023-04-16T16:44:48.413650Z",
     "iopub.status.idle": "2023-04-16T16:44:48.425503Z",
     "shell.execute_reply": "2023-04-16T16:44:48.424158Z"
    },
    "papermill": {
     "duration": 0.019928,
     "end_time": "2023-04-16T16:44:48.428275",
     "exception": false,
     "start_time": "2023-04-16T16:44:48.408347",
     "status": "completed"
    },
    "tags": []
   },
   "outputs": [],
   "source": [
    "data = data.dropna()"
   ]
  },
  {
   "cell_type": "markdown",
   "id": "69e824c1",
   "metadata": {
    "papermill": {
     "duration": 0.003478,
     "end_time": "2023-04-16T16:44:48.435551",
     "exception": false,
     "start_time": "2023-04-16T16:44:48.432073",
     "status": "completed"
    },
    "tags": []
   },
   "source": [
    "# Look at the insights of the columns to understand the data type of all the columns:"
   ]
  },
  {
   "cell_type": "code",
   "execution_count": 6,
   "id": "5e3beae6",
   "metadata": {
    "execution": {
     "iopub.execute_input": "2023-04-16T16:44:48.445035Z",
     "iopub.status.busy": "2023-04-16T16:44:48.443985Z",
     "iopub.status.idle": "2023-04-16T16:44:48.466283Z",
     "shell.execute_reply": "2023-04-16T16:44:48.464948Z"
    },
    "papermill": {
     "duration": 0.029675,
     "end_time": "2023-04-16T16:44:48.468767",
     "exception": false,
     "start_time": "2023-04-16T16:44:48.439092",
     "status": "completed"
    },
    "tags": []
   },
   "outputs": [
    {
     "name": "stdout",
     "output_type": "stream",
     "text": [
      "<class 'pandas.core.frame.DataFrame'>\n",
      "Int64Index: 119 entries, 0 to 118\n",
      "Data columns (total 13 columns):\n",
      " #   Column          Non-Null Count  Dtype \n",
      "---  ------          --------------  ----- \n",
      " 0   Impressions     119 non-null    int64 \n",
      " 1   From Home       119 non-null    int64 \n",
      " 2   From Hashtags   119 non-null    int64 \n",
      " 3   From Explore    119 non-null    int64 \n",
      " 4   From Other      119 non-null    int64 \n",
      " 5   Saves           119 non-null    int64 \n",
      " 6   Comments        119 non-null    int64 \n",
      " 7   Shares          119 non-null    int64 \n",
      " 8   Likes           119 non-null    int64 \n",
      " 9   Profile Visits  119 non-null    int64 \n",
      " 10  Follows         119 non-null    int64 \n",
      " 11  Caption         119 non-null    object\n",
      " 12  Hashtags        119 non-null    object\n",
      "dtypes: int64(11), object(2)\n",
      "memory usage: 13.0+ KB\n"
     ]
    }
   ],
   "source": [
    "data.info()"
   ]
  },
  {
   "cell_type": "markdown",
   "id": "fd5b0613",
   "metadata": {
    "papermill": {
     "duration": 0.003369,
     "end_time": "2023-04-16T16:44:48.475989",
     "exception": false,
     "start_time": "2023-04-16T16:44:48.472620",
     "status": "completed"
    },
    "tags": []
   },
   "source": [
    "# Analyzing Instagram Reach\n",
    "\n",
    "- Let’s start with analyzing the reach of my Instagram posts. \n",
    "- I will first have a look at the distribution of impressions I have received from home."
   ]
  }
 ],
 "metadata": {
  "kernelspec": {
   "display_name": "Python 3",
   "language": "python",
   "name": "python3"
  },
  "language_info": {
   "codemirror_mode": {
    "name": "ipython",
    "version": 3
   },
   "file_extension": ".py",
   "mimetype": "text/x-python",
   "name": "python",
   "nbconvert_exporter": "python",
   "pygments_lexer": "ipython3",
   "version": "3.7.12"
  },
  "papermill": {
   "default_parameters": {},
   "duration": 14.249304,
   "end_time": "2023-04-16T16:44:49.300361",
   "environment_variables": {},
   "exception": null,
   "input_path": "__notebook__.ipynb",
   "output_path": "__notebook__.ipynb",
   "parameters": {},
   "start_time": "2023-04-16T16:44:35.051057",
   "version": "2.4.0"
  }
 },
 "nbformat": 4,
 "nbformat_minor": 5
}
