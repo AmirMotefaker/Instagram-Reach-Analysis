{
 "cells": [
  {
   "cell_type": "markdown",
   "id": "93295df6",
   "metadata": {
    "papermill": {
     "duration": 0.004675,
     "end_time": "2023-04-16T16:46:05.679174",
     "exception": false,
     "start_time": "2023-04-16T16:46:05.674499",
     "status": "completed"
    },
    "tags": []
   },
   "source": [
    "# Introduction\n",
    "\n",
    "- Instagram is one of the most popular social media applications today. People using Instagram professionally are using it for promoting their business, building a portfolio, blogging, and creating various kinds of content. As Instagram is a popular application used by millions of people with different niches, Instagram keeps changing to make itself better for content creators and users. But as this keeps changing, it affects the reach of our posts which affects us in the long run. So if content creator wants to do well on Instagram in the long run, they have to look at the data of their Instagram reach. That is where the use of Data Science in social media comes in. \n",
    "\n",
    "- I have been researching Instagram reach for a long time. Every time I post on my Instagram account, I collect data about how successful the post is after a week. This helps to understand how the Instagram algorithm works. If you want to analyze the reach of your Instagram account, you have to collect your data manually because there are some APIs, but they don't work well. Therefore, it is better to collect your Instagram data manually.\n",
    "\n",
    "- If you want to learn how to analyze Instagram reach using Python, you can use the data I collected from my Instagram account. You can download the dataset I used to analyze Instagram reach [here](https://statso.io/wp-content/uploads/2022/10/archive.zip)."
   ]
  },
  {
   "cell_type": "markdown",
   "id": "cd745319",
   "metadata": {
    "papermill": {
     "duration": 0.003144,
     "end_time": "2023-04-16T16:46:05.685971",
     "exception": false,
     "start_time": "2023-04-16T16:46:05.682827",
     "status": "completed"
    },
    "tags": []
   },
   "source": [
    "# Import Libraries"
   ]
  },
  {
   "cell_type": "code",
   "execution_count": 1,
   "id": "897da116",
   "metadata": {
    "execution": {
     "iopub.execute_input": "2023-04-16T16:46:05.694920Z",
     "iopub.status.busy": "2023-04-16T16:46:05.694340Z",
     "iopub.status.idle": "2023-04-16T16:46:08.984450Z",
     "shell.execute_reply": "2023-04-16T16:46:08.983080Z"
    },
    "papermill": {
     "duration": 3.298188,
     "end_time": "2023-04-16T16:46:08.987473",
     "exception": false,
     "start_time": "2023-04-16T16:46:05.689285",
     "status": "completed"
    },
    "tags": []
   },
   "outputs": [],
   "source": [
    "import pandas as pd\n",
    "import numpy as np\n",
    "import matplotlib.pyplot as plt\n",
    "import seaborn as sns\n",
    "import plotly.express as px\n",
    "from wordcloud import WordCloud, STOPWORDS, ImageColorGenerator\n",
    "from sklearn.model_selection import train_test_split\n",
    "from sklearn.linear_model import PassiveAggressiveRegressor"
   ]
  },
  {
   "cell_type": "markdown",
   "id": "782bc2f2",
   "metadata": {
    "papermill": {
     "duration": 0.003402,
     "end_time": "2023-04-16T16:46:08.994810",
     "exception": false,
     "start_time": "2023-04-16T16:46:08.991408",
     "status": "completed"
    },
    "tags": []
   },
   "source": [
    "# Read Data"
   ]
  },
  {
   "cell_type": "code",
   "execution_count": 2,
   "id": "63fa4aa2",
   "metadata": {
    "execution": {
     "iopub.execute_input": "2023-04-16T16:46:09.004355Z",
     "iopub.status.busy": "2023-04-16T16:46:09.003933Z",
     "iopub.status.idle": "2023-04-16T16:46:09.029346Z",
     "shell.execute_reply": "2023-04-16T16:46:09.028241Z"
    },
    "papermill": {
     "duration": 0.033276,
     "end_time": "2023-04-16T16:46:09.032011",
     "exception": false,
     "start_time": "2023-04-16T16:46:08.998735",
     "status": "completed"
    },
    "tags": []
   },
   "outputs": [],
   "source": [
    "data = pd.read_csv(\"/kaggle/input/instagram-data/Instagram data.csv\", encoding = 'latin1')"
   ]
  },
  {
   "cell_type": "code",
   "execution_count": 3,
   "id": "bd79ae59",
   "metadata": {
    "execution": {
     "iopub.execute_input": "2023-04-16T16:46:09.041741Z",
     "iopub.status.busy": "2023-04-16T16:46:09.040715Z",
     "iopub.status.idle": "2023-04-16T16:46:09.058569Z",
     "shell.execute_reply": "2023-04-16T16:46:09.057593Z"
    },
    "papermill": {
     "duration": 0.026388,
     "end_time": "2023-04-16T16:46:09.062111",
     "exception": false,
     "start_time": "2023-04-16T16:46:09.035723",
     "status": "completed"
    },
    "tags": []
   },
   "outputs": [
    {
     "name": "stdout",
     "output_type": "stream",
     "text": [
      "   Impressions  From Home  From Hashtags  From Explore  From Other  Saves  \\\n",
      "0         3920       2586           1028           619          56     98   \n",
      "1         5394       2727           1838          1174          78    194   \n",
      "2         4021       2085           1188             0         533     41   \n",
      "3         4528       2700            621           932          73    172   \n",
      "4         2518       1704            255           279          37     96   \n",
      "\n",
      "   Comments  Shares  Likes  Profile Visits  Follows  \\\n",
      "0         9       5    162              35        2   \n",
      "1         7      14    224              48       10   \n",
      "2        11       1    131              62       12   \n",
      "3        10       7    213              23        8   \n",
      "4         5       4    123               8        0   \n",
      "\n",
      "                                             Caption  \\\n",
      "0  Here are some of the most important data visua...   \n",
      "1  Here are some of the best data science project...   \n",
      "2  Learn how to train a machine learning model an...   \n",
      "3  Heres how you can write a Python program to d...   \n",
      "4  Plotting annotations while visualizing your da...   \n",
      "\n",
      "                                            Hashtags  \n",
      "0  #finance #money #business #investing #investme...  \n",
      "1  #healthcare #health #covid #data #datascience ...  \n",
      "2  #data #datascience #dataanalysis #dataanalytic...  \n",
      "3  #python #pythonprogramming #pythonprojects #py...  \n",
      "4  #datavisualization #datascience #data #dataana...  \n"
     ]
    }
   ],
   "source": [
    "print(data.head())"
   ]
  },
  {
   "cell_type": "markdown",
   "id": "58a0baeb",
   "metadata": {
    "papermill": {
     "duration": 0.003476,
     "end_time": "2023-04-16T16:46:09.069811",
     "exception": false,
     "start_time": "2023-04-16T16:46:09.066335",
     "status": "completed"
    },
    "tags": []
   },
   "source": [
    "# Whether the dataset contains null values or not"
   ]
  },
  {
   "cell_type": "code",
   "execution_count": 4,
   "id": "06fe4f0a",
   "metadata": {
    "execution": {
     "iopub.execute_input": "2023-04-16T16:46:09.079857Z",
     "iopub.status.busy": "2023-04-16T16:46:09.078454Z",
     "iopub.status.idle": "2023-04-16T16:46:09.090499Z",
     "shell.execute_reply": "2023-04-16T16:46:09.089162Z"
    },
    "papermill": {
     "duration": 0.019394,
     "end_time": "2023-04-16T16:46:09.092850",
     "exception": false,
     "start_time": "2023-04-16T16:46:09.073456",
     "status": "completed"
    },
    "tags": []
   },
   "outputs": [
    {
     "data": {
      "text/plain": [
       "Impressions       0\n",
       "From Home         0\n",
       "From Hashtags     0\n",
       "From Explore      0\n",
       "From Other        0\n",
       "Saves             0\n",
       "Comments          0\n",
       "Shares            0\n",
       "Likes             0\n",
       "Profile Visits    0\n",
       "Follows           0\n",
       "Caption           0\n",
       "Hashtags          0\n",
       "dtype: int64"
      ]
     },
     "execution_count": 4,
     "metadata": {},
     "output_type": "execute_result"
    }
   ],
   "source": [
    "data.isnull().sum()"
   ]
  },
  {
   "cell_type": "code",
   "execution_count": 5,
   "id": "93e33655",
   "metadata": {
    "execution": {
     "iopub.execute_input": "2023-04-16T16:46:09.103380Z",
     "iopub.status.busy": "2023-04-16T16:46:09.102233Z",
     "iopub.status.idle": "2023-04-16T16:46:09.114733Z",
     "shell.execute_reply": "2023-04-16T16:46:09.113633Z"
    },
    "papermill": {
     "duration": 0.020538,
     "end_time": "2023-04-16T16:46:09.117498",
     "exception": false,
     "start_time": "2023-04-16T16:46:09.096960",
     "status": "completed"
    },
    "tags": []
   },
   "outputs": [],
   "source": [
    "data = data.dropna()"
   ]
  },
  {
   "cell_type": "markdown",
   "id": "50c457b9",
   "metadata": {
    "papermill": {
     "duration": 0.00356,
     "end_time": "2023-04-16T16:46:09.125015",
     "exception": false,
     "start_time": "2023-04-16T16:46:09.121455",
     "status": "completed"
    },
    "tags": []
   },
   "source": [
    "# Look at the insights of the columns to understand the data type of all the columns:"
   ]
  },
  {
   "cell_type": "code",
   "execution_count": 6,
   "id": "a761f44c",
   "metadata": {
    "execution": {
     "iopub.execute_input": "2023-04-16T16:46:09.137811Z",
     "iopub.status.busy": "2023-04-16T16:46:09.137380Z",
     "iopub.status.idle": "2023-04-16T16:46:09.158067Z",
     "shell.execute_reply": "2023-04-16T16:46:09.156559Z"
    },
    "papermill": {
     "duration": 0.031162,
     "end_time": "2023-04-16T16:46:09.160306",
     "exception": false,
     "start_time": "2023-04-16T16:46:09.129144",
     "status": "completed"
    },
    "tags": []
   },
   "outputs": [
    {
     "name": "stdout",
     "output_type": "stream",
     "text": [
      "<class 'pandas.core.frame.DataFrame'>\n",
      "Int64Index: 119 entries, 0 to 118\n",
      "Data columns (total 13 columns):\n",
      " #   Column          Non-Null Count  Dtype \n",
      "---  ------          --------------  ----- \n",
      " 0   Impressions     119 non-null    int64 \n",
      " 1   From Home       119 non-null    int64 \n",
      " 2   From Hashtags   119 non-null    int64 \n",
      " 3   From Explore    119 non-null    int64 \n",
      " 4   From Other      119 non-null    int64 \n",
      " 5   Saves           119 non-null    int64 \n",
      " 6   Comments        119 non-null    int64 \n",
      " 7   Shares          119 non-null    int64 \n",
      " 8   Likes           119 non-null    int64 \n",
      " 9   Profile Visits  119 non-null    int64 \n",
      " 10  Follows         119 non-null    int64 \n",
      " 11  Caption         119 non-null    object\n",
      " 12  Hashtags        119 non-null    object\n",
      "dtypes: int64(11), object(2)\n",
      "memory usage: 13.0+ KB\n"
     ]
    }
   ],
   "source": [
    "data.info()"
   ]
  },
  {
   "cell_type": "markdown",
   "id": "b7d6a028",
   "metadata": {
    "papermill": {
     "duration": 0.003582,
     "end_time": "2023-04-16T16:46:09.167886",
     "exception": false,
     "start_time": "2023-04-16T16:46:09.164304",
     "status": "completed"
    },
    "tags": []
   },
   "source": [
    "# Analyzing Instagram Reach\n",
    "\n",
    "- Let’s start with analyzing the reach of my Instagram posts. \n",
    "- I will first have a look at the distribution of impressions I have received from home."
   ]
  },
  {
   "cell_type": "code",
   "execution_count": 7,
   "id": "798922c0",
   "metadata": {
    "execution": {
     "iopub.execute_input": "2023-04-16T16:46:09.178033Z",
     "iopub.status.busy": "2023-04-16T16:46:09.176824Z",
     "iopub.status.idle": "2023-04-16T16:46:09.564542Z",
     "shell.execute_reply": "2023-04-16T16:46:09.563198Z"
    },
    "papermill": {
     "duration": 0.39657,
     "end_time": "2023-04-16T16:46:09.568163",
     "exception": false,
     "start_time": "2023-04-16T16:46:09.171593",
     "status": "completed"
    },
    "tags": []
   },
   "outputs": [
    {
     "data": {
      "image/png": "[encoded data removed]",
      "text/plain": [
       "<Figure size 1000x800 with 1 Axes>"
      ]
     },
     "metadata": {},
     "output_type": "display_data"
    }
   ],
   "source": [
    "plt.figure(figsize=(10, 8))\n",
    "plt.style.use('fivethirtyeight')\n",
    "plt.title(\"Distribution of Impressions From Home\")\n",
    "#sns.distplot(data['From Home'])\n",
    "sns.histplot(data['From Home'])\n",
    "plt.show()"
   ]
  }
 ],
 "metadata": {
  "kernelspec": {
   "display_name": "Python 3",
   "language": "python",
   "name": "python3"
  },
  "language_info": {
   "codemirror_mode": {
    "name": "ipython",
    "version": 3
   },
   "file_extension": ".py",
   "mimetype": "text/x-python",
   "name": "python",
   "nbconvert_exporter": "python",
   "pygments_lexer": "ipython3",
   "version": "3.7.12"
  },
  "papermill": {
   "default_parameters": {},
   "duration": 15.142287,
   "end_time": "2023-04-16T16:46:10.496687",
   "environment_variables": {},
   "exception": null,
   "input_path": "__notebook__.ipynb",
   "output_path": "__notebook__.ipynb",
   "parameters": {},
   "start_time": "2023-04-16T16:45:55.354400",
   "version": "2.4.0"
  }
 },
 "nbformat": 4,
 "nbformat_minor": 5
}
