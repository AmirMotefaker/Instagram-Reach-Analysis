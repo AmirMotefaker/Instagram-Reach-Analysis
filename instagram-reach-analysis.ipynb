{
 "cells": [
  {
   "cell_type": "markdown",
   "id": "f65a0266",
   "metadata": {
    "papermill": {
     "duration": 0.002766,
     "end_time": "2023-04-16T16:37:55.345724",
     "exception": false,
     "start_time": "2023-04-16T16:37:55.342958",
     "status": "completed"
    },
    "tags": []
   },
   "source": [
    "# Introduction\n",
    "\n",
    "- Instagram is one of the most popular social media applications today. People using Instagram professionally are using it for promoting their business, building a portfolio, blogging, and creating various kinds of content. As Instagram is a popular application used by millions of people with different niches, Instagram keeps changing to make itself better for content creators and users. But as this keeps changing, it affects the reach of our posts which affects us in the long run. So if content creator wants to do well on Instagram in the long run, they have to look at the data of their Instagram reach. That is where the use of Data Science in social media comes in. \n",
    "\n",
    "- I have been researching Instagram reach for a long time. Every time I post on my Instagram account, I collect data about how successful the post is after a week. This helps to understand how the Instagram algorithm works. If you want to analyze the reach of your Instagram account, you have to collect your data manually because there are some APIs, but they don't work well. Therefore, it is better to collect your Instagram data manually.\n",
    "\n",
    "- If you want to learn how to analyze Instagram reach using Python, you can use the data I collected from my Instagram account. You can download the dataset I used to analyze Instagram reach [here](https://statso.io/wp-content/uploads/2022/10/archive.zip)."
   ]
  },
  {
   "cell_type": "markdown",
   "id": "305ea1de",
   "metadata": {
    "papermill": {
     "duration": 0.001448,
     "end_time": "2023-04-16T16:37:55.349056",
     "exception": false,
     "start_time": "2023-04-16T16:37:55.347608",
     "status": "completed"
    },
    "tags": []
   },
   "source": [
    "# Import Libraries"
   ]
  },
  {
   "cell_type": "code",
   "execution_count": 1,
   "id": "b5121dc4",
   "metadata": {
    "execution": {
     "iopub.execute_input": "2023-04-16T16:37:55.354156Z",
     "iopub.status.busy": "2023-04-16T16:37:55.353746Z",
     "iopub.status.idle": "2023-04-16T16:37:58.443046Z",
     "shell.execute_reply": "2023-04-16T16:37:58.441954Z"
    },
    "papermill": {
     "duration": 3.095261,
     "end_time": "2023-04-16T16:37:58.446000",
     "exception": false,
     "start_time": "2023-04-16T16:37:55.350739",
     "status": "completed"
    },
    "tags": []
   },
   "outputs": [],
   "source": [
    "import pandas as pd\n",
    "import numpy as np\n",
    "import matplotlib.pyplot as plt\n",
    "import seaborn as sns\n",
    "import plotly.express as px\n",
    "from wordcloud import WordCloud, STOPWORDS, ImageColorGenerator\n",
    "from sklearn.model_selection import train_test_split\n",
    "from sklearn.linear_model import PassiveAggressiveRegressor"
   ]
  }
 ],
 "metadata": {
  "kernelspec": {
   "display_name": "Python 3",
   "language": "python",
   "name": "python3"
  },
  "language_info": {
   "codemirror_mode": {
    "name": "ipython",
    "version": 3
   },
   "file_extension": ".py",
   "mimetype": "text/x-python",
   "name": "python",
   "nbconvert_exporter": "python",
   "pygments_lexer": "ipython3",
   "version": "3.7.12"
  },
  "papermill": {
   "default_parameters": {},
   "duration": 13.896987,
   "end_time": "2023-04-16T16:37:59.270573",
   "environment_variables": {},
   "exception": null,
   "input_path": "__notebook__.ipynb",
   "output_path": "__notebook__.ipynb",
   "parameters": {},
   "start_time": "2023-04-16T16:37:45.373586",
   "version": "2.4.0"
  }
 },
 "nbformat": 4,
 "nbformat_minor": 5
}
