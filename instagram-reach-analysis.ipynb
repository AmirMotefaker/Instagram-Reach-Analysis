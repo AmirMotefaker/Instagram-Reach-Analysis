{
 "cells": [
  {
   "cell_type": "markdown",
   "id": "ececc4ce",
   "metadata": {
    "papermill": {
     "duration": 0.00387,
     "end_time": "2023-04-16T16:42:20.059466",
     "exception": false,
     "start_time": "2023-04-16T16:42:20.055596",
     "status": "completed"
    },
    "tags": []
   },
   "source": [
    "# Introduction\n",
    "\n",
    "- Instagram is one of the most popular social media applications today. People using Instagram professionally are using it for promoting their business, building a portfolio, blogging, and creating various kinds of content. As Instagram is a popular application used by millions of people with different niches, Instagram keeps changing to make itself better for content creators and users. But as this keeps changing, it affects the reach of our posts which affects us in the long run. So if content creator wants to do well on Instagram in the long run, they have to look at the data of their Instagram reach. That is where the use of Data Science in social media comes in. \n",
    "\n",
    "- I have been researching Instagram reach for a long time. Every time I post on my Instagram account, I collect data about how successful the post is after a week. This helps to understand how the Instagram algorithm works. If you want to analyze the reach of your Instagram account, you have to collect your data manually because there are some APIs, but they don't work well. Therefore, it is better to collect your Instagram data manually.\n",
    "\n",
    "- If you want to learn how to analyze Instagram reach using Python, you can use the data I collected from my Instagram account. You can download the dataset I used to analyze Instagram reach [here](https://statso.io/wp-content/uploads/2022/10/archive.zip)."
   ]
  },
  {
   "cell_type": "markdown",
   "id": "6156fb4b",
   "metadata": {
    "papermill": {
     "duration": 0.002377,
     "end_time": "2023-04-16T16:42:20.064828",
     "exception": false,
     "start_time": "2023-04-16T16:42:20.062451",
     "status": "completed"
    },
    "tags": []
   },
   "source": [
    "# Import Libraries"
   ]
  },
  {
   "cell_type": "code",
   "execution_count": 1,
   "id": "5973ffe5",
   "metadata": {
    "execution": {
     "iopub.execute_input": "2023-04-16T16:42:20.072169Z",
     "iopub.status.busy": "2023-04-16T16:42:20.071748Z",
     "iopub.status.idle": "2023-04-16T16:42:23.667301Z",
     "shell.execute_reply": "2023-04-16T16:42:23.665778Z"
    },
    "papermill": {
     "duration": 3.602964,
     "end_time": "2023-04-16T16:42:23.670421",
     "exception": false,
     "start_time": "2023-04-16T16:42:20.067457",
     "status": "completed"
    },
    "tags": []
   },
   "outputs": [],
   "source": [
    "import pandas as pd\n",
    "import numpy as np\n",
    "import matplotlib.pyplot as plt\n",
    "import seaborn as sns\n",
    "import plotly.express as px\n",
    "from wordcloud import WordCloud, STOPWORDS, ImageColorGenerator\n",
    "from sklearn.model_selection import train_test_split\n",
    "from sklearn.linear_model import PassiveAggressiveRegressor"
   ]
  },
  {
   "cell_type": "markdown",
   "id": "daae954d",
   "metadata": {
    "papermill": {
     "duration": 0.003011,
     "end_time": "2023-04-16T16:42:23.677827",
     "exception": false,
     "start_time": "2023-04-16T16:42:23.674816",
     "status": "completed"
    },
    "tags": []
   },
   "source": [
    "# Read Data"
   ]
  },
  {
   "cell_type": "code",
   "execution_count": 2,
   "id": "def56063",
   "metadata": {
    "execution": {
     "iopub.execute_input": "2023-04-16T16:42:23.685837Z",
     "iopub.status.busy": "2023-04-16T16:42:23.685220Z",
     "iopub.status.idle": "2023-04-16T16:42:23.704829Z",
     "shell.execute_reply": "2023-04-16T16:42:23.703735Z"
    },
    "papermill": {
     "duration": 0.026713,
     "end_time": "2023-04-16T16:42:23.707529",
     "exception": false,
     "start_time": "2023-04-16T16:42:23.680816",
     "status": "completed"
    },
    "tags": []
   },
   "outputs": [],
   "source": [
    "data = pd.read_csv(\"/kaggle/input/instagram-data/Instagram data.csv\", encoding = 'latin1')"
   ]
  },
  {
   "cell_type": "code",
   "execution_count": 3,
   "id": "7cdd0732",
   "metadata": {
    "execution": {
     "iopub.execute_input": "2023-04-16T16:42:23.716334Z",
     "iopub.status.busy": "2023-04-16T16:42:23.715644Z",
     "iopub.status.idle": "2023-04-16T16:42:23.736355Z",
     "shell.execute_reply": "2023-04-16T16:42:23.734868Z"
    },
    "papermill": {
     "duration": 0.029324,
     "end_time": "2023-04-16T16:42:23.739788",
     "exception": false,
     "start_time": "2023-04-16T16:42:23.710464",
     "status": "completed"
    },
    "tags": []
   },
   "outputs": [
    {
     "name": "stdout",
     "output_type": "stream",
     "text": [
      "   Impressions  From Home  From Hashtags  From Explore  From Other  Saves  \\\n",
      "0         3920       2586           1028           619          56     98   \n",
      "1         5394       2727           1838          1174          78    194   \n",
      "2         4021       2085           1188             0         533     41   \n",
      "3         4528       2700            621           932          73    172   \n",
      "4         2518       1704            255           279          37     96   \n",
      "\n",
      "   Comments  Shares  Likes  Profile Visits  Follows  \\\n",
      "0         9       5    162              35        2   \n",
      "1         7      14    224              48       10   \n",
      "2        11       1    131              62       12   \n",
      "3        10       7    213              23        8   \n",
      "4         5       4    123               8        0   \n",
      "\n",
      "                                             Caption  \\\n",
      "0  Here are some of the most important data visua...   \n",
      "1  Here are some of the best data science project...   \n",
      "2  Learn how to train a machine learning model an...   \n",
      "3  Heres how you can write a Python program to d...   \n",
      "4  Plotting annotations while visualizing your da...   \n",
      "\n",
      "                                            Hashtags  \n",
      "0  #finance #money #business #investing #investme...  \n",
      "1  #healthcare #health #covid #data #datascience ...  \n",
      "2  #data #datascience #dataanalysis #dataanalytic...  \n",
      "3  #python #pythonprogramming #pythonprojects #py...  \n",
      "4  #datavisualization #datascience #data #dataana...  \n"
     ]
    }
   ],
   "source": [
    "print(data.head())"
   ]
  },
  {
   "cell_type": "markdown",
   "id": "fc1dcabb",
   "metadata": {
    "papermill": {
     "duration": 0.003046,
     "end_time": "2023-04-16T16:42:23.746050",
     "exception": false,
     "start_time": "2023-04-16T16:42:23.743004",
     "status": "completed"
    },
    "tags": []
   },
   "source": [
    "# Whether the dataset contains null values or not"
   ]
  },
  {
   "cell_type": "code",
   "execution_count": 4,
   "id": "0c587926",
   "metadata": {
    "execution": {
     "iopub.execute_input": "2023-04-16T16:42:23.753913Z",
     "iopub.status.busy": "2023-04-16T16:42:23.753471Z",
     "iopub.status.idle": "2023-04-16T16:42:23.765364Z",
     "shell.execute_reply": "2023-04-16T16:42:23.764143Z"
    },
    "papermill": {
     "duration": 0.018937,
     "end_time": "2023-04-16T16:42:23.767950",
     "exception": false,
     "start_time": "2023-04-16T16:42:23.749013",
     "status": "completed"
    },
    "tags": []
   },
   "outputs": [
    {
     "data": {
      "text/plain": [
       "Impressions       0\n",
       "From Home         0\n",
       "From Hashtags     0\n",
       "From Explore      0\n",
       "From Other        0\n",
       "Saves             0\n",
       "Comments          0\n",
       "Shares            0\n",
       "Likes             0\n",
       "Profile Visits    0\n",
       "Follows           0\n",
       "Caption           0\n",
       "Hashtags          0\n",
       "dtype: int64"
      ]
     },
     "execution_count": 4,
     "metadata": {},
     "output_type": "execute_result"
    }
   ],
   "source": [
    "data.isnull().sum()"
   ]
  }
 ],
 "metadata": {
  "kernelspec": {
   "display_name": "Python 3",
   "language": "python",
   "name": "python3"
  },
  "language_info": {
   "codemirror_mode": {
    "name": "ipython",
    "version": 3
   },
   "file_extension": ".py",
   "mimetype": "text/x-python",
   "name": "python",
   "nbconvert_exporter": "python",
   "pygments_lexer": "ipython3",
   "version": "3.7.12"
  },
  "papermill": {
   "default_parameters": {},
   "duration": 17.718885,
   "end_time": "2023-04-16T16:42:24.694774",
   "environment_variables": {},
   "exception": null,
   "input_path": "__notebook__.ipynb",
   "output_path": "__notebook__.ipynb",
   "parameters": {},
   "start_time": "2023-04-16T16:42:06.975889",
   "version": "2.4.0"
  }
 },
 "nbformat": 4,
 "nbformat_minor": 5
}
