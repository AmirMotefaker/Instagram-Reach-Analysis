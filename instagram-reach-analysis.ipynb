{
 "cells": [
  {
   "cell_type": "markdown",
   "id": "8b35b520",
   "metadata": {
    "papermill": {
     "duration": 0.00458,
     "end_time": "2023-04-16T16:45:20.758296",
     "exception": false,
     "start_time": "2023-04-16T16:45:20.753716",
     "status": "completed"
    },
    "tags": []
   },
   "source": [
    "# Introduction\n",
    "\n",
    "- Instagram is one of the most popular social media applications today. People using Instagram professionally are using it for promoting their business, building a portfolio, blogging, and creating various kinds of content. As Instagram is a popular application used by millions of people with different niches, Instagram keeps changing to make itself better for content creators and users. But as this keeps changing, it affects the reach of our posts which affects us in the long run. So if content creator wants to do well on Instagram in the long run, they have to look at the data of their Instagram reach. That is where the use of Data Science in social media comes in. \n",
    "\n",
    "- I have been researching Instagram reach for a long time. Every time I post on my Instagram account, I collect data about how successful the post is after a week. This helps to understand how the Instagram algorithm works. If you want to analyze the reach of your Instagram account, you have to collect your data manually because there are some APIs, but they don't work well. Therefore, it is better to collect your Instagram data manually.\n",
    "\n",
    "- If you want to learn how to analyze Instagram reach using Python, you can use the data I collected from my Instagram account. You can download the dataset I used to analyze Instagram reach [here](https://statso.io/wp-content/uploads/2022/10/archive.zip)."
   ]
  },
  {
   "cell_type": "markdown",
   "id": "3750b0b2",
   "metadata": {
    "papermill": {
     "duration": 0.003113,
     "end_time": "2023-04-16T16:45:20.765027",
     "exception": false,
     "start_time": "2023-04-16T16:45:20.761914",
     "status": "completed"
    },
    "tags": []
   },
   "source": [
    "# Import Libraries"
   ]
  },
  {
   "cell_type": "code",
   "execution_count": 1,
   "id": "87dbbe59",
   "metadata": {
    "execution": {
     "iopub.execute_input": "2023-04-16T16:45:20.774040Z",
     "iopub.status.busy": "2023-04-16T16:45:20.773478Z",
     "iopub.status.idle": "2023-04-16T16:45:23.845215Z",
     "shell.execute_reply": "2023-04-16T16:45:23.844037Z"
    },
    "papermill": {
     "duration": 3.07979,
     "end_time": "2023-04-16T16:45:23.848112",
     "exception": false,
     "start_time": "2023-04-16T16:45:20.768322",
     "status": "completed"
    },
    "tags": []
   },
   "outputs": [],
   "source": [
    "import pandas as pd\n",
    "import numpy as np\n",
    "import matplotlib.pyplot as plt\n",
    "import seaborn as sns\n",
    "import plotly.express as px\n",
    "from wordcloud import WordCloud, STOPWORDS, ImageColorGenerator\n",
    "from sklearn.model_selection import train_test_split\n",
    "from sklearn.linear_model import PassiveAggressiveRegressor"
   ]
  },
  {
   "cell_type": "markdown",
   "id": "606d3cba",
   "metadata": {
    "papermill": {
     "duration": 0.003612,
     "end_time": "2023-04-16T16:45:23.857607",
     "exception": false,
     "start_time": "2023-04-16T16:45:23.853995",
     "status": "completed"
    },
    "tags": []
   },
   "source": [
    "# Read Data"
   ]
  },
  {
   "cell_type": "code",
   "execution_count": 2,
   "id": "82a0c165",
   "metadata": {
    "execution": {
     "iopub.execute_input": "2023-04-16T16:45:23.866979Z",
     "iopub.status.busy": "2023-04-16T16:45:23.866538Z",
     "iopub.status.idle": "2023-04-16T16:45:23.886408Z",
     "shell.execute_reply": "2023-04-16T16:45:23.885226Z"
    },
    "papermill": {
     "duration": 0.028538,
     "end_time": "2023-04-16T16:45:23.889625",
     "exception": false,
     "start_time": "2023-04-16T16:45:23.861087",
     "status": "completed"
    },
    "tags": []
   },
   "outputs": [],
   "source": [
    "data = pd.read_csv(\"/kaggle/input/instagram-data/Instagram data.csv\", encoding = 'latin1')"
   ]
  },
  {
   "cell_type": "code",
   "execution_count": 3,
   "id": "7c78e599",
   "metadata": {
    "execution": {
     "iopub.execute_input": "2023-04-16T16:45:23.898505Z",
     "iopub.status.busy": "2023-04-16T16:45:23.898096Z",
     "iopub.status.idle": "2023-04-16T16:45:23.917381Z",
     "shell.execute_reply": "2023-04-16T16:45:23.916057Z"
    },
    "papermill": {
     "duration": 0.027455,
     "end_time": "2023-04-16T16:45:23.920741",
     "exception": false,
     "start_time": "2023-04-16T16:45:23.893286",
     "status": "completed"
    },
    "tags": []
   },
   "outputs": [
    {
     "name": "stdout",
     "output_type": "stream",
     "text": [
      "   Impressions  From Home  From Hashtags  From Explore  From Other  Saves  \\\n",
      "0         3920       2586           1028           619          56     98   \n",
      "1         5394       2727           1838          1174          78    194   \n",
      "2         4021       2085           1188             0         533     41   \n",
      "3         4528       2700            621           932          73    172   \n",
      "4         2518       1704            255           279          37     96   \n",
      "\n",
      "   Comments  Shares  Likes  Profile Visits  Follows  \\\n",
      "0         9       5    162              35        2   \n",
      "1         7      14    224              48       10   \n",
      "2        11       1    131              62       12   \n",
      "3        10       7    213              23        8   \n",
      "4         5       4    123               8        0   \n",
      "\n",
      "                                             Caption  \\\n",
      "0  Here are some of the most important data visua...   \n",
      "1  Here are some of the best data science project...   \n",
      "2  Learn how to train a machine learning model an...   \n",
      "3  Heres how you can write a Python program to d...   \n",
      "4  Plotting annotations while visualizing your da...   \n",
      "\n",
      "                                            Hashtags  \n",
      "0  #finance #money #business #investing #investme...  \n",
      "1  #healthcare #health #covid #data #datascience ...  \n",
      "2  #data #datascience #dataanalysis #dataanalytic...  \n",
      "3  #python #pythonprogramming #pythonprojects #py...  \n",
      "4  #datavisualization #datascience #data #dataana...  \n"
     ]
    }
   ],
   "source": [
    "print(data.head())"
   ]
  },
  {
   "cell_type": "markdown",
   "id": "06103abe",
   "metadata": {
    "papermill": {
     "duration": 0.003344,
     "end_time": "2023-04-16T16:45:23.927795",
     "exception": false,
     "start_time": "2023-04-16T16:45:23.924451",
     "status": "completed"
    },
    "tags": []
   },
   "source": [
    "# Whether the dataset contains null values or not"
   ]
  },
  {
   "cell_type": "code",
   "execution_count": 4,
   "id": "dcf7d96e",
   "metadata": {
    "execution": {
     "iopub.execute_input": "2023-04-16T16:45:23.936545Z",
     "iopub.status.busy": "2023-04-16T16:45:23.936162Z",
     "iopub.status.idle": "2023-04-16T16:45:23.947596Z",
     "shell.execute_reply": "2023-04-16T16:45:23.946403Z"
    },
    "papermill": {
     "duration": 0.01871,
     "end_time": "2023-04-16T16:45:23.949988",
     "exception": false,
     "start_time": "2023-04-16T16:45:23.931278",
     "status": "completed"
    },
    "tags": []
   },
   "outputs": [
    {
     "data": {
      "text/plain": [
       "Impressions       0\n",
       "From Home         0\n",
       "From Hashtags     0\n",
       "From Explore      0\n",
       "From Other        0\n",
       "Saves             0\n",
       "Comments          0\n",
       "Shares            0\n",
       "Likes             0\n",
       "Profile Visits    0\n",
       "Follows           0\n",
       "Caption           0\n",
       "Hashtags          0\n",
       "dtype: int64"
      ]
     },
     "execution_count": 4,
     "metadata": {},
     "output_type": "execute_result"
    }
   ],
   "source": [
    "data.isnull().sum()"
   ]
  },
  {
   "cell_type": "code",
   "execution_count": 5,
   "id": "81b57f1c",
   "metadata": {
    "execution": {
     "iopub.execute_input": "2023-04-16T16:45:23.959530Z",
     "iopub.status.busy": "2023-04-16T16:45:23.959144Z",
     "iopub.status.idle": "2023-04-16T16:45:23.970804Z",
     "shell.execute_reply": "2023-04-16T16:45:23.969905Z"
    },
    "papermill": {
     "duration": 0.019108,
     "end_time": "2023-04-16T16:45:23.973102",
     "exception": false,
     "start_time": "2023-04-16T16:45:23.953994",
     "status": "completed"
    },
    "tags": []
   },
   "outputs": [],
   "source": [
    "data = data.dropna()"
   ]
  },
  {
   "cell_type": "markdown",
   "id": "b1341280",
   "metadata": {
    "papermill": {
     "duration": 0.003443,
     "end_time": "2023-04-16T16:45:23.980400",
     "exception": false,
     "start_time": "2023-04-16T16:45:23.976957",
     "status": "completed"
    },
    "tags": []
   },
   "source": [
    "# Look at the insights of the columns to understand the data type of all the columns:"
   ]
  },
  {
   "cell_type": "code",
   "execution_count": 6,
   "id": "115de3ba",
   "metadata": {
    "execution": {
     "iopub.execute_input": "2023-04-16T16:45:23.989566Z",
     "iopub.status.busy": "2023-04-16T16:45:23.989172Z",
     "iopub.status.idle": "2023-04-16T16:45:24.009256Z",
     "shell.execute_reply": "2023-04-16T16:45:24.007715Z"
    },
    "papermill": {
     "duration": 0.027694,
     "end_time": "2023-04-16T16:45:24.011707",
     "exception": false,
     "start_time": "2023-04-16T16:45:23.984013",
     "status": "completed"
    },
    "tags": []
   },
   "outputs": [
    {
     "name": "stdout",
     "output_type": "stream",
     "text": [
      "<class 'pandas.core.frame.DataFrame'>\n",
      "Int64Index: 119 entries, 0 to 118\n",
      "Data columns (total 13 columns):\n",
      " #   Column          Non-Null Count  Dtype \n",
      "---  ------          --------------  ----- \n",
      " 0   Impressions     119 non-null    int64 \n",
      " 1   From Home       119 non-null    int64 \n",
      " 2   From Hashtags   119 non-null    int64 \n",
      " 3   From Explore    119 non-null    int64 \n",
      " 4   From Other      119 non-null    int64 \n",
      " 5   Saves           119 non-null    int64 \n",
      " 6   Comments        119 non-null    int64 \n",
      " 7   Shares          119 non-null    int64 \n",
      " 8   Likes           119 non-null    int64 \n",
      " 9   Profile Visits  119 non-null    int64 \n",
      " 10  Follows         119 non-null    int64 \n",
      " 11  Caption         119 non-null    object\n",
      " 12  Hashtags        119 non-null    object\n",
      "dtypes: int64(11), object(2)\n",
      "memory usage: 13.0+ KB\n"
     ]
    }
   ],
   "source": [
    "data.info()"
   ]
  },
  {
   "cell_type": "markdown",
   "id": "1733ec70",
   "metadata": {
    "papermill": {
     "duration": 0.003546,
     "end_time": "2023-04-16T16:45:24.019325",
     "exception": false,
     "start_time": "2023-04-16T16:45:24.015779",
     "status": "completed"
    },
    "tags": []
   },
   "source": [
    "# Analyzing Instagram Reach\n",
    "\n",
    "- Let’s start with analyzing the reach of my Instagram posts. \n",
    "- I will first have a look at the distribution of impressions I have received from home."
   ]
  },
  {
   "cell_type": "code",
   "execution_count": 7,
   "id": "1d15c6bc",
   "metadata": {
    "execution": {
     "iopub.execute_input": "2023-04-16T16:45:24.029206Z",
     "iopub.status.busy": "2023-04-16T16:45:24.028248Z",
     "iopub.status.idle": "2023-04-16T16:45:24.418900Z",
     "shell.execute_reply": "2023-04-16T16:45:24.418046Z"
    },
    "papermill": {
     "duration": 0.398134,
     "end_time": "2023-04-16T16:45:24.421236",
     "exception": false,
     "start_time": "2023-04-16T16:45:24.023102",
     "status": "completed"
    },
    "tags": []
   },
   "outputs": [
    {
     "name": "stderr",
     "output_type": "stream",
     "text": [
      "/opt/conda/lib/python3.7/site-packages/ipykernel_launcher.py:4: UserWarning: \n",
      "\n",
      "`distplot` is a deprecated function and will be removed in seaborn v0.14.0.\n",
      "\n",
      "Please adapt your code to use either `displot` (a figure-level function with\n",
      "similar flexibility) or `histplot` (an axes-level function for histograms).\n",
      "\n",
      "For a guide to updating your code to use the new functions, please see\n",
      "https://gist.github.com/mwaskom/de44147ed2974457ad6372750bbe5751\n",
      "\n",
      "  after removing the cwd from sys.path.\n"
     ]
    },
    {
     "data": {
      "image/png": "[encoded data removed]",
      "text/plain": [
       "<Figure size 1000x800 with 1 Axes>"
      ]
     },
     "metadata": {},
     "output_type": "display_data"
    }
   ],
   "source": [
    "plt.figure(figsize=(10, 8))\n",
    "plt.style.use('fivethirtyeight')\n",
    "plt.title(\"Distribution of Impressions From Home\")\n",
    "sns.distplot(data['From Home'])\n",
    "plt.show()"
   ]
  }
 ],
 "metadata": {
  "kernelspec": {
   "display_name": "Python 3",
   "language": "python",
   "name": "python3"
  },
  "language_info": {
   "codemirror_mode": {
    "name": "ipython",
    "version": 3
   },
   "file_extension": ".py",
   "mimetype": "text/x-python",
   "name": "python",
   "nbconvert_exporter": "python",
   "pygments_lexer": "ipython3",
   "version": "3.7.12"
  },
  "papermill": {
   "default_parameters": {},
   "duration": 14.32049,
   "end_time": "2023-04-16T16:45:25.248365",
   "environment_variables": {},
   "exception": null,
   "input_path": "__notebook__.ipynb",
   "output_path": "__notebook__.ipynb",
   "parameters": {},
   "start_time": "2023-04-16T16:45:10.927875",
   "version": "2.4.0"
  }
 },
 "nbformat": 4,
 "nbformat_minor": 5
}
